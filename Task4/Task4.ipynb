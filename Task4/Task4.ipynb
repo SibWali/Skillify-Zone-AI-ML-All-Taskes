{
  "cells": [
    {
      "cell_type": "code",
      "execution_count": 1,
      "metadata": {
        "colab": {
          "base_uri": "https://localhost:8080/",
          "height": 90
        },
        "id": "3Suu-Q1wKJPG",
        "outputId": "48d1778c-6a46-4f8d-9b4e-05ad22f7da02"
      },
      "outputs": [
        {
          "data": {
            "text/html": [
              "\n",
              "     <input type=\"file\" id=\"files-4eabe089-115a-414b-a720-072fd2153cb0\" name=\"files[]\" multiple disabled\n",
              "        style=\"border:none\" />\n",
              "     <output id=\"result-4eabe089-115a-414b-a720-072fd2153cb0\">\n",
              "      Upload widget is only available when the cell has been executed in the\n",
              "      current browser session. Please rerun this cell to enable.\n",
              "      </output>\n",
              "      <script>// Copyright 2017 Google LLC\n",
              "//\n",
              "// Licensed under the Apache License, Version 2.0 (the \"License\");\n",
              "// you may not use this file except in compliance with the License.\n",
              "// You may obtain a copy of the License at\n",
              "//\n",
              "//      http://www.apache.org/licenses/LICENSE-2.0\n",
              "//\n",
              "// Unless required by applicable law or agreed to in writing, software\n",
              "// distributed under the License is distributed on an \"AS IS\" BASIS,\n",
              "// WITHOUT WARRANTIES OR CONDITIONS OF ANY KIND, either express or implied.\n",
              "// See the License for the specific language governing permissions and\n",
              "// limitations under the License.\n",
              "\n",
              "/**\n",
              " * @fileoverview Helpers for google.colab Python module.\n",
              " */\n",
              "(function(scope) {\n",
              "function span(text, styleAttributes = {}) {\n",
              "  const element = document.createElement('span');\n",
              "  element.textContent = text;\n",
              "  for (const key of Object.keys(styleAttributes)) {\n",
              "    element.style[key] = styleAttributes[key];\n",
              "  }\n",
              "  return element;\n",
              "}\n",
              "\n",
              "// Max number of bytes which will be uploaded at a time.\n",
              "const MAX_PAYLOAD_SIZE = 100 * 1024;\n",
              "\n",
              "function _uploadFiles(inputId, outputId) {\n",
              "  const steps = uploadFilesStep(inputId, outputId);\n",
              "  const outputElement = document.getElementById(outputId);\n",
              "  // Cache steps on the outputElement to make it available for the next call\n",
              "  // to uploadFilesContinue from Python.\n",
              "  outputElement.steps = steps;\n",
              "\n",
              "  return _uploadFilesContinue(outputId);\n",
              "}\n",
              "\n",
              "// This is roughly an async generator (not supported in the browser yet),\n",
              "// where there are multiple asynchronous steps and the Python side is going\n",
              "// to poll for completion of each step.\n",
              "// This uses a Promise to block the python side on completion of each step,\n",
              "// then passes the result of the previous step as the input to the next step.\n",
              "function _uploadFilesContinue(outputId) {\n",
              "  const outputElement = document.getElementById(outputId);\n",
              "  const steps = outputElement.steps;\n",
              "\n",
              "  const next = steps.next(outputElement.lastPromiseValue);\n",
              "  return Promise.resolve(next.value.promise).then((value) => {\n",
              "    // Cache the last promise value to make it available to the next\n",
              "    // step of the generator.\n",
              "    outputElement.lastPromiseValue = value;\n",
              "    return next.value.response;\n",
              "  });\n",
              "}\n",
              "\n",
              "/**\n",
              " * Generator function which is called between each async step of the upload\n",
              " * process.\n",
              " * @param {string} inputId Element ID of the input file picker element.\n",
              " * @param {string} outputId Element ID of the output display.\n",
              " * @return {!Iterable<!Object>} Iterable of next steps.\n",
              " */\n",
              "function* uploadFilesStep(inputId, outputId) {\n",
              "  const inputElement = document.getElementById(inputId);\n",
              "  inputElement.disabled = false;\n",
              "\n",
              "  const outputElement = document.getElementById(outputId);\n",
              "  outputElement.innerHTML = '';\n",
              "\n",
              "  const pickedPromise = new Promise((resolve) => {\n",
              "    inputElement.addEventListener('change', (e) => {\n",
              "      resolve(e.target.files);\n",
              "    });\n",
              "  });\n",
              "\n",
              "  const cancel = document.createElement('button');\n",
              "  inputElement.parentElement.appendChild(cancel);\n",
              "  cancel.textContent = 'Cancel upload';\n",
              "  const cancelPromise = new Promise((resolve) => {\n",
              "    cancel.onclick = () => {\n",
              "      resolve(null);\n",
              "    };\n",
              "  });\n",
              "\n",
              "  // Wait for the user to pick the files.\n",
              "  const files = yield {\n",
              "    promise: Promise.race([pickedPromise, cancelPromise]),\n",
              "    response: {\n",
              "      action: 'starting',\n",
              "    }\n",
              "  };\n",
              "\n",
              "  cancel.remove();\n",
              "\n",
              "  // Disable the input element since further picks are not allowed.\n",
              "  inputElement.disabled = true;\n",
              "\n",
              "  if (!files) {\n",
              "    return {\n",
              "      response: {\n",
              "        action: 'complete',\n",
              "      }\n",
              "    };\n",
              "  }\n",
              "\n",
              "  for (const file of files) {\n",
              "    const li = document.createElement('li');\n",
              "    li.append(span(file.name, {fontWeight: 'bold'}));\n",
              "    li.append(span(\n",
              "        `(${file.type || 'n/a'}) - ${file.size} bytes, ` +\n",
              "        `last modified: ${\n",
              "            file.lastModifiedDate ? file.lastModifiedDate.toLocaleDateString() :\n",
              "                                    'n/a'} - `));\n",
              "    const percent = span('0% done');\n",
              "    li.appendChild(percent);\n",
              "\n",
              "    outputElement.appendChild(li);\n",
              "\n",
              "    const fileDataPromise = new Promise((resolve) => {\n",
              "      const reader = new FileReader();\n",
              "      reader.onload = (e) => {\n",
              "        resolve(e.target.result);\n",
              "      };\n",
              "      reader.readAsArrayBuffer(file);\n",
              "    });\n",
              "    // Wait for the data to be ready.\n",
              "    let fileData = yield {\n",
              "      promise: fileDataPromise,\n",
              "      response: {\n",
              "        action: 'continue',\n",
              "      }\n",
              "    };\n",
              "\n",
              "    // Use a chunked sending to avoid message size limits. See b/62115660.\n",
              "    let position = 0;\n",
              "    do {\n",
              "      const length = Math.min(fileData.byteLength - position, MAX_PAYLOAD_SIZE);\n",
              "      const chunk = new Uint8Array(fileData, position, length);\n",
              "      position += length;\n",
              "\n",
              "      const base64 = btoa(String.fromCharCode.apply(null, chunk));\n",
              "      yield {\n",
              "        response: {\n",
              "          action: 'append',\n",
              "          file: file.name,\n",
              "          data: base64,\n",
              "        },\n",
              "      };\n",
              "\n",
              "      let percentDone = fileData.byteLength === 0 ?\n",
              "          100 :\n",
              "          Math.round((position / fileData.byteLength) * 100);\n",
              "      percent.textContent = `${percentDone}% done`;\n",
              "\n",
              "    } while (position < fileData.byteLength);\n",
              "  }\n",
              "\n",
              "  // All done.\n",
              "  yield {\n",
              "    response: {\n",
              "      action: 'complete',\n",
              "    }\n",
              "  };\n",
              "}\n",
              "\n",
              "scope.google = scope.google || {};\n",
              "scope.google.colab = scope.google.colab || {};\n",
              "scope.google.colab._files = {\n",
              "  _uploadFiles,\n",
              "  _uploadFilesContinue,\n",
              "};\n",
              "})(self);\n",
              "</script> "
            ],
            "text/plain": [
              "<IPython.core.display.HTML object>"
            ]
          },
          "metadata": {},
          "output_type": "display_data"
        },
        {
          "name": "stdout",
          "output_type": "stream",
          "text": [
            "Saving kaggle.json to kaggle.json\n"
          ]
        },
        {
          "data": {
            "text/plain": [
              "{'kaggle.json': b'{\"username\":\"sibtainwali\",\"key\":\"dab2f11f7979d1efda7e5b520ec68dc2\"}'}"
            ]
          },
          "execution_count": 1,
          "metadata": {},
          "output_type": "execute_result"
        }
      ],
      "source": [
        "from google.colab import files\n",
        "files.upload()"
      ]
    },
    {
      "cell_type": "code",
      "execution_count": 3,
      "metadata": {
        "id": "Ywd7cmmcKNi9"
      },
      "outputs": [],
      "source": [
        "!mkdir -p ~/.kaggle\n",
        "!mv kaggle.json ~/.kaggle/\n",
        "!chmod 600 ~/.kaggle/kaggle.json\n"
      ]
    },
    {
      "cell_type": "code",
      "execution_count": 4,
      "metadata": {
        "colab": {
          "base_uri": "https://localhost:8080/"
        },
        "id": "YmVhZ5LlKUHD",
        "outputId": "38f59de2-2f60-491b-bafc-c3fd611ede3d"
      },
      "outputs": [
        {
          "name": "stdout",
          "output_type": "stream",
          "text": [
            "ref                                                    title                                               size  lastUpdated                 downloadCount  voteCount  usabilityRating  \n",
            "-----------------------------------------------------  --------------------------------------------  ----------  --------------------------  -------------  ---------  ---------------  \n",
            "kmldas/loan-default-prediction                         Loan Default Prediction                           111675  2021-04-06 15:03:41.200000          11129        107  1.0              \n",
            "bhavikjikadara/loan-status-prediction                  Loan Status Prediction                              5336  2024-02-02 13:27:20.870000          12377        103  1.0              \n",
            "architsharma01/loan-approval-prediction-dataset        Loan-Approval-Prediction-Dataset                   82535  2023-07-16 16:31:20.923000          30402        195  0.9411765        \n",
            "nikhil1e9/loan-default                                 Loan Default Prediction Dataset                  8240964  2023-09-11 17:58:24.527000          14212        116  1.0              \n",
            "subhamjain/loan-prediction-based-on-customer-behavior  Loan Prediction Based on Customer Behavior       5399082  2021-08-15 18:40:27.207000          18096        279  1.0              \n",
            "devzohaib/eligibility-prediction-for-loan              Eligibility Prediction for Loan                     7983  2022-11-14 21:36:57.200000           7281         78  0.9411765        \n",
            "ethicalstar/loan-prediction                            Loan Prediction                                  4818061  2025-03-04 06:05:49.063000           1405         30  0.7058824        \n",
            "krishnaraj30/finance-loan-approval-prediction-data     Finance Loan approval Prediction Data              12824  2023-06-08 16:29:50.153000           7521         96  1.0              \n",
            "hemanthsai7/loandefault                                Loan Default prediction dataset                  9138771  2023-01-11 10:48:07.313000           5873         57  0.9411765        \n",
            "sahilislam007/loan-factors-prediction-dataset          Loan Factors Prediction Dataset                   434827  2025-06-21 09:02:24.590000            772         24  1.0              \n",
            "mamtadhaker/lt-vehicle-loan-default-prediction         L&T Vehicle Loan Default Prediction             12085164  2019-04-18 18:36:04.797000           7882         93  0.8235294        \n",
            "sonalisingh1411/loan-approval-prediction               Loan Approval Prediction                           13885  2021-03-22 12:21:51.233000           4774         43  0.5294118        \n",
            "altruistdelhite04/loan-prediction-problem-dataset      Loan Prediction Problem Dataset                    12888  2019-03-12 12:43:33.713000          74716        519  0.1764706        \n",
            "yashkmd/credit-profile-two-wheeler-loan-dataset        Vehicle Loan Database                            8157407  2023-08-28 18:06:45.073000           1997         42  1.0              \n",
            "abhishekmishra08/loan-approval-datasets                Loan approval datasets for prediction             403848  2025-03-21 09:33:05.483000           1598         29  0.9411765        \n",
            "ankitkalauni/bank-loan-defaulter-prediction-hackathon  Bank Loan Defaulter Prediction (Hackathon)       9131913  2021-12-08 15:04:45.547000           3942         53  1.0              \n",
            "zaurbegiev/my-dataset                                  Bank Loan Status Dataset                         8540308  2017-04-08 21:02:05.523000          26932        251  0.7058824        \n",
            "chilledwanker/loan-approval-prediction                 Loan Approval Prediction                          376518  2024-03-26 17:46:28.127000           3596         36  0.29411766       \n",
            "avikpaul4u/vehicle-loan-default-prediction             Vehicle Loan Default Prediction                 12200101  2019-11-12 08:57:11.097000           6137         43  0.4117647        \n",
            "bsugiarto9/loan-status-prediction-with-added-nans      Loan Rejection or Approval Status Prediction        6235  2024-03-13 08:14:03.240000           1876         30  0.7647059        \n"
          ]
        }
      ],
      "source": [
        "!kaggle datasets list -s \"loan prediction\"\n"
      ]
    },
    {
      "cell_type": "code",
      "execution_count": 5,
      "metadata": {
        "colab": {
          "base_uri": "https://localhost:8080/"
        },
        "id": "uOGq3zonKnjO",
        "outputId": "81d47737-1272-429e-8cc9-be93a2a13733"
      },
      "outputs": [
        {
          "name": "stdout",
          "output_type": "stream",
          "text": [
            "Dataset URL: https://www.kaggle.com/datasets/altruistdelhite04/loan-prediction-problem-dataset\n",
            "License(s): unknown\n",
            "Downloading loan-prediction-problem-dataset.zip to /content\n",
            "  0% 0.00/12.6k [00:00<?, ?B/s]\n",
            "100% 12.6k/12.6k [00:00<00:00, 28.7MB/s]\n",
            "Archive:  loan-prediction-problem-dataset.zip\n",
            "  inflating: test_Y3wMUE5_7gLdaTN.csv  \n",
            "  inflating: train_u6lujuX_CVtuZ9i.csv  \n"
          ]
        }
      ],
      "source": [
        "!kaggle datasets download -d altruistdelhite04/loan-prediction-problem-dataset\n",
        "!unzip -o loan-prediction-problem-dataset.zip\n"
      ]
    },
    {
      "cell_type": "code",
      "execution_count": null,
      "metadata": {
        "colab": {
          "base_uri": "https://localhost:8080/"
        },
        "id": "zhb7RBbLMQj-",
        "outputId": "26d0c3ae-fd6e-4219-ec3b-14f92f0b2773"
      },
      "outputs": [
        {
          "name": "stdout",
          "output_type": "stream",
          "text": [
            "Accuracy: 0.7560975609756098\n",
            "\n",
            "Classification Report:\n",
            "               precision    recall  f1-score   support\n",
            "\n",
            "           0       0.78      0.42      0.55        43\n",
            "           1       0.75      0.94      0.83        80\n",
            "\n",
            "    accuracy                           0.76       123\n",
            "   macro avg       0.77      0.68      0.69       123\n",
            "weighted avg       0.76      0.76      0.73       123\n",
            "\n",
            "\n",
            "Confusion Matrix:\n",
            " [[18 25]\n",
            " [ 5 75]]\n"
          ]
        },
        {
          "data": {
            "text/plain": [
              "['loan_model_encoders.pkl']"
            ]
          },
          "execution_count": 17,
          "metadata": {},
          "output_type": "execute_result"
        }
      ],
      "source": [
        "import pandas as pd\n",
        "from sklearn.model_selection import train_test_split\n",
        "from sklearn.preprocessing import LabelEncoder\n",
        "from sklearn.impute import SimpleImputer\n",
        "from sklearn.ensemble import RandomForestClassifier\n",
        "from sklearn.metrics import accuracy_score, classification_report, confusion_matrix\n",
        "import joblib\n",
        "\n",
        "\n",
        "df = pd.read_csv(\"train_u6lujuX_CVtuZ9i.csv\")\n",
        "\n",
        "\n",
        "imputer = SimpleImputer(strategy='most_frequent')\n",
        "df_imputed = pd.DataFrame(imputer.fit_transform(df), columns=df.columns)\n",
        "\n",
        "\n",
        "encoders = {}\n",
        "for col in df_imputed.select_dtypes(include=['object']).columns:\n",
        "    le = LabelEncoder()\n",
        "    df_imputed[col] = le.fit_transform(df_imputed[col])\n",
        "    encoders[col] = le  \n",
        "\n",
        "\n",
        "X = df_imputed.drop([\"Loan_ID\", \"Loan_Status\"], axis=1)\n",
        "y = df_imputed[\"Loan_Status\"]\n",
        "\n",
        "\n",
        "X_train, X_test, y_train, y_test = train_test_split(X, y, test_size=0.2, random_state=42)\n",
        "\n",
        "\n",
        "model = RandomForestClassifier(random_state=42)\n",
        "model.fit(X_train, y_train)\n",
        "\n",
        "\n",
        "y_pred = model.predict(X_test)\n",
        "print(\"Accuracy:\", accuracy_score(y_test, y_pred))\n",
        "print(\"\\nClassification Report:\\n\", classification_report(y_test, y_pred))\n",
        "print(\"\\nConfusion Matrix:\\n\", confusion_matrix(y_test, y_pred))\n",
        "\n",
        "\n",
        "joblib.dump(model, \"loan_model.pkl\")\n",
        "joblib.dump(list(X.columns), \"loan_model_features.pkl\")\n",
        "joblib.dump(encoders, \"loan_model_encoders.pkl\")\n"
      ]
    },
    {
      "cell_type": "code",
      "execution_count": null,
      "metadata": {
        "colab": {
          "base_uri": "https://localhost:8080/"
        },
        "id": "WzAw58j-R615",
        "outputId": "13466ec2-c6aa-4c6f-ab94-46f1a780529f"
      },
      "outputs": [
        {
          "name": "stdout",
          "output_type": "stream",
          "text": [
            "Overwriting app.py\n"
          ]
        }
      ],
      "source": [
        "%%writefile app.py\n",
        "import streamlit as st\n",
        "import pandas as pd\n",
        "import joblib\n",
        "\n",
        "\n",
        "model = joblib.load(\"loan_model.pkl\")\n",
        "feature_names = joblib.load(\"loan_model_features.pkl\")\n",
        "encoders = joblib.load(\"loan_model_encoders.pkl\")\n",
        "\n",
        "\n",
        "def encode_input(data_dict):\n",
        "    encoded_dict = {}\n",
        "    for col in data_dict:\n",
        "        if col in encoders:\n",
        "            encoded_dict[col] = encoders[col].transform([data_dict[col]])[0]\n",
        "        else:\n",
        "            encoded_dict[col] = data_dict[col]\n",
        "    return pd.DataFrame([encoded_dict], columns=feature_names)\n",
        "\n",
        "\n",
        "st.title(\"🏦 Loan Approval Prediction System\")\n",
        "\n",
        "\n",
        "st.sidebar.header(\"Quick Test Cases\")\n",
        "if st.sidebar.button(\"✅ Likely Approved\"):\n",
        "    test_case = {\n",
        "        \"Gender\": \"Male\",\n",
        "        \"Married\": \"Yes\",\n",
        "        \"Dependents\": \"0\",\n",
        "        \"Education\": \"Graduate\",\n",
        "        \"Self_Employed\": \"No\",\n",
        "        \"ApplicantIncome\": 6000,\n",
        "        \"CoapplicantIncome\": 2000,\n",
        "        \"LoanAmount\": 120,\n",
        "        \"Loan_Amount_Term\": 360,\n",
        "        \"Credit_History\": 1.0,\n",
        "        \"Property_Area\": \"Urban\"\n",
        "    }\n",
        "    df_input = encode_input(test_case)\n",
        "    prediction = model.predict(df_input)[0]\n",
        "    st.success(f\"Prediction: {'✅ Approved' if prediction == 1 else '❌ Rejected'}\")\n",
        "\n",
        "if st.sidebar.button(\"❌ Likely Rejected\"):\n",
        "    test_case = {\n",
        "        \"Gender\": \"Female\",\n",
        "        \"Married\": \"No\",\n",
        "        \"Dependents\": \"2\",\n",
        "        \"Education\": \"Not Graduate\",\n",
        "        \"Self_Employed\": \"Yes\",\n",
        "        \"ApplicantIncome\": 1500,\n",
        "        \"CoapplicantIncome\": 0,\n",
        "        \"LoanAmount\": 200,\n",
        "        \"Loan_Amount_Term\": 360,\n",
        "        \"Credit_History\": 0.0,\n",
        "        \"Property_Area\": \"Rural\"\n",
        "    }\n",
        "    df_input = encode_input(test_case)\n",
        "    prediction = model.predict(df_input)[0]\n",
        "    st.success(f\"Prediction: {'✅ Approved' if prediction == 1 else '❌ Rejected'}\")\n",
        "\n",
        "if st.sidebar.button(\"⚖️ Borderline Case\"):\n",
        "    test_case = {\n",
        "        \"Gender\": \"Male\",\n",
        "        \"Married\": \"Yes\",\n",
        "        \"Dependents\": \"1\",\n",
        "        \"Education\": \"Graduate\",\n",
        "        \"Self_Employed\": \"No\",\n",
        "        \"ApplicantIncome\": 3500,\n",
        "        \"CoapplicantIncome\": 1500,\n",
        "        \"LoanAmount\": 150,\n",
        "        \"Loan_Amount_Term\": 360,\n",
        "        \"Credit_History\": 1.0,\n",
        "        \"Property_Area\": \"Semiurban\"\n",
        "    }\n",
        "    df_input = encode_input(test_case)\n",
        "    prediction = model.predict(df_input)[0]\n",
        "    st.success(f\"Prediction: {'✅ Approved' if prediction == 1 else '❌ Rejected'}\")\n",
        "\n",
        "\n",
        "st.sidebar.header(\"Custom Applicant Details\")\n",
        "Gender = st.sidebar.selectbox(\"Gender\", encoders[\"Gender\"].classes_)\n",
        "Married = st.sidebar.selectbox(\"Married\", encoders[\"Married\"].classes_)\n",
        "Dependents = st.sidebar.selectbox(\"Dependents\", encoders[\"Dependents\"].classes_)\n",
        "Education = st.sidebar.selectbox(\"Education\", encoders[\"Education\"].classes_)\n",
        "Self_Employed = st.sidebar.selectbox(\"Self_Employed\", encoders[\"Self_Employed\"].classes_)\n",
        "ApplicantIncome = st.sidebar.number_input(\"Applicant Income\", 0)\n",
        "CoapplicantIncome = st.sidebar.number_input(\"Coapplicant Income\", 0)\n",
        "LoanAmount = st.sidebar.number_input(\"Loan Amount (in $)\", 0)\n",
        "Loan_Amount_Term = st.sidebar.number_input(\"Loan Amount Term (in days)\", 0)\n",
        "Credit_History = st.sidebar.selectbox(\"Credit History\", encoders[\"Credit_History\"].classes_)\n",
        "Property_Area = st.sidebar.selectbox(\"Property_Area\", encoders[\"Property_Area\"].classes_)\n",
        "\n",
        "if st.sidebar.button(\"Predict Custom\"):\n",
        "    custom_case = {\n",
        "        \"Gender\": Gender,\n",
        "        \"Married\": Married,\n",
        "        \"Dependents\": Dependents,\n",
        "        \"Education\": Education,\n",
        "        \"Self_Employed\": Self_Employed,\n",
        "        \"ApplicantIncome\": ApplicantIncome,\n",
        "        \"CoapplicantIncome\": CoapplicantIncome,\n",
        "        \"LoanAmount\": LoanAmount,\n",
        "        \"Loan_Amount_Term\": Loan_Amount_Term,\n",
        "        \"Credit_History\": Credit_History,\n",
        "        \"Property_Area\": Property_Area\n",
        "    }\n",
        "    df_input = encode_input(custom_case)\n",
        "    prediction = model.predict(df_input)[0]\n",
        "    st.success(f\"Prediction: {'✅ Approved' if prediction == 1 else '❌ Rejected'}\")\n"
      ]
    },
    {
      "cell_type": "code",
      "execution_count": 20,
      "metadata": {
        "colab": {
          "base_uri": "https://localhost:8080/"
        },
        "id": "Lsb_bj8BSUj6",
        "outputId": "e0401d83-1043-407c-b7f9-6d86b3214fe3"
      },
      "outputs": [
        {
          "name": "stdout",
          "output_type": "stream",
          "text": [
            "\u001b[1G\u001b[0K⠙\u001b[1G\u001b[0K⠹\u001b[1G\u001b[0K⠸\u001b[1G\u001b[0K⠼\u001b[1G\u001b[0K⠴\u001b[1G\u001b[0K⠦\u001b[1G\u001b[0K⠧\u001b[1G\u001b[0K⠇\u001b[1G\u001b[0K⠏\u001b[1G\u001b[0K⠋\u001b[1G\u001b[0K⠙\u001b[1G\u001b[0K⠹\u001b[1G\u001b[0K⠸\u001b[1G\u001b[0K⠼\u001b[1G\u001b[0K⠴\u001b[1G\u001b[0K⠦\u001b[1G\u001b[0K⠧\u001b[1G\u001b[0K⠇\u001b[1G\u001b[0K⠏\u001b[1G\u001b[0K⠋\u001b[1G\u001b[0K⠙\u001b[1G\u001b[0K⠹\u001b[1G\u001b[0K\n",
            "changed 22 packages in 2s\n",
            "\u001b[1G\u001b[0K⠹\u001b[1G\u001b[0K\n",
            "\u001b[1G\u001b[0K⠹\u001b[1G\u001b[0K3 packages are looking for funding\n",
            "\u001b[1G\u001b[0K⠹\u001b[1G\u001b[0K  run `npm fund` for details\n",
            "\u001b[1G\u001b[0K⠹\u001b[1G\u001b[0K\u001b[1G\u001b[0K⠙\n",
            "Collecting usage statistics. To deactivate, set browser.gatherUsageStats to false.\n",
            "\u001b[0m\n",
            "\u001b[1G\u001b[0K⠹\u001b[1G\u001b[0K⠸\u001b[1G\u001b[0K⠼\u001b[0m\n",
            "\u001b[34m\u001b[1m  You can now view your Streamlit app in your browser.\u001b[0m\n",
            "\u001b[0m\n",
            "\u001b[34m  Local URL: \u001b[0m\u001b[1mhttp://localhost:8501\u001b[0m\n",
            "\u001b[34m  Network URL: \u001b[0m\u001b[1mhttp://172.28.0.12:8501\u001b[0m\n",
            "\u001b[34m  External URL: \u001b[0m\u001b[1mhttp://34.133.144.19:8501\u001b[0m\n",
            "\u001b[0m\n",
            "\u001b[1G\u001b[0K⠴\u001b[1G\u001b[0K⠦\u001b[1G\u001b[0K⠧\u001b[1G\u001b[0K⠇\u001b[1G\u001b[0K⠏\u001b[1G\u001b[0K⠋\u001b[1G\u001b[0K⠙\u001b[1G\u001b[0Kyour url is: https://full-peas-carry.loca.lt\n",
            "\u001b[34m  Stopping...\u001b[0m\n",
            "^C\n"
          ]
        }
      ],
      "source": [
        "!pip install -q streamlit\n",
        "!npm install -g localtunnel\n",
        "!streamlit run app.py & npx localtunnel --port 8501\n"
      ]
    },
    {
      "cell_type": "code",
      "execution_count": 10,
      "metadata": {
        "colab": {
          "base_uri": "https://localhost:8080/"
        },
        "id": "IP2g0nbPLhYj",
        "outputId": "02dbda66-1406-4343-8179-85e5f02a0cdc"
      },
      "outputs": [
        {
          "name": "stdout",
          "output_type": "stream",
          "text": [
            "34.133.144.19"
          ]
        }
      ],
      "source": [
        "!curl https://loca.lt/mytunnelpassword\n"
      ]
    }
  ],
  "metadata": {
    "colab": {
      "provenance": []
    },
    "kernelspec": {
      "display_name": "Python 3",
      "name": "python3"
    },
    "language_info": {
      "name": "python"
    }
  },
  "nbformat": 4,
  "nbformat_minor": 0
}
